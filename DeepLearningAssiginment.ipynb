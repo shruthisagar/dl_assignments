{
  "nbformat": 4,
  "nbformat_minor": 0,
  "metadata": {
    "colab": {
      "name": "DeepLearningAssiginment.ipynb",
      "provenance": [],
      "collapsed_sections": [],
      "include_colab_link": true
    },
    "kernelspec": {
      "name": "python3",
      "display_name": "Python 3"
    },
    "language_info": {
      "name": "python"
    }
  },
  "cells": [
    {
      "cell_type": "markdown",
      "metadata": {
        "id": "view-in-github",
        "colab_type": "text"
      },
      "source": [
        "<a href=\"https://colab.research.google.com/github/shruthisagar/dl_assignments/blob/main/DeepLearningAssiginment.ipynb\" target=\"_parent\"><img src=\"https://colab.research.google.com/assets/colab-badge.svg\" alt=\"Open In Colab\"/></a>"
      ]
    },
    {
      "cell_type": "code",
      "metadata": {
        "id": "f-P4-zRqHZuk"
      },
      "source": [
        "\n",
        "from operator import itemgetter    \n",
        "import numpy as np\n",
        "import pandas as pd\n",
        "import matplotlib.pyplot as plt\n",
        "import warnings\n",
        "warnings.filterwarnings('ignore')\n",
        "get_ipython().magic(u'matplotlib inline')\n",
        "plt.style.use('ggplot')\n",
        "\n",
        "import tensorflow as tf\n",
        "\n",
        "from keras import models, regularizers, layers, optimizers, losses, metrics\n",
        "from keras.models import Sequential\n",
        "from keras.layers import Dense\n",
        "from keras.utils import np_utils, to_categorical\n",
        " \n",
        "from keras.datasets import imdb\n"
      ],
      "execution_count": null,
      "outputs": []
    },
    {
      "cell_type": "code",
      "metadata": {
        "id": "5vOtpHdcHlJa"
      },
      "source": [
        "# LOAD IMDB DATA\n",
        "\n",
        "(train_data, train_labels), (test_data, test_labels) = imdb.load_data(\n",
        "num_words=10000)\n",
        "# my_data = imdb.load_data(\n",
        "# num_words=10000)"
      ],
      "execution_count": null,
      "outputs": []
    },
    {
      "cell_type": "code",
      "metadata": {
        "colab": {
          "base_uri": "https://localhost:8080/"
        },
        "id": "mYF2_hBwJTPd",
        "outputId": "a32a34fd-f6bc-4ae4-b6a5-b3a9c936eee4"
      },
      "source": [
        "train_labels"
      ],
      "execution_count": null,
      "outputs": [
        {
          "output_type": "execute_result",
          "data": {
            "text/plain": [
              "array([1, 0, 0, ..., 0, 1, 0])"
            ]
          },
          "metadata": {
            "tags": []
          },
          "execution_count": 10
        }
      ]
    },
    {
      "cell_type": "code",
      "metadata": {
        "colab": {
          "base_uri": "https://localhost:8080/"
        },
        "id": "Wd3FNaQNHsNK",
        "outputId": "8d425fd5-c89f-4bad-8025-16092209fbbc"
      },
      "source": [
        "print(\"train_data \", train_data.shape)\n",
        "print(\"train_labels \", train_labels.shape)\n",
        "print(\"_\"*100)\n",
        "print(\"test_data \", test_data.shape)\n",
        "print(\"test_labels \", test_labels.shape)\n",
        "print(\"_\"*100)\n",
        "print(\"Maximum value of a word index \")\n",
        "print(max([max(sequence) for sequence in train_data]))\n",
        "print(\"Maximum length num words of review in train \")\n",
        "print(max([len(sequence) for sequence in train_data]))"
      ],
      "execution_count": null,
      "outputs": [
        {
          "output_type": "stream",
          "text": [
            "train_data  (25000,)\n",
            "train_labels  (25000,)\n",
            "____________________________________________________________________________________________________\n",
            "test_data  (25000,)\n",
            "test_labels  (25000,)\n",
            "____________________________________________________________________________________________________\n",
            "Maximum value of a word index \n",
            "9999\n",
            "Maximum length num words of review in train \n",
            "2494\n"
          ],
          "name": "stdout"
        }
      ]
    },
    {
      "cell_type": "code",
      "metadata": {
        "colab": {
          "base_uri": "https://localhost:8080/"
        },
        "id": "siRLF0SXHupw",
        "outputId": "23eef6f3-54f7-4a55-c597-9711e95fb0d2"
      },
      "source": [
        "# See an actual review in words\n",
        "# Reverse from integers to words using the DICTIONARY (given by keras...need to do nothing to create it)\n",
        "\n",
        "word_index = imdb.get_word_index()\n",
        "\n",
        "reverse_word_index = dict(\n",
        "[(value, key) for (key, value) in word_index.items()])\n",
        "\n",
        "decoded_review = ' '.join(\n",
        "[reverse_word_index.get(i - 3, '?') for i in train_data[123]])\n",
        "\n",
        "print(decoded_review)"
      ],
      "execution_count": null,
      "outputs": [
        {
          "output_type": "stream",
          "text": [
            "Downloading data from https://storage.googleapis.com/tensorflow/tf-keras-datasets/imdb_word_index.json\n",
            "1646592/1641221 [==============================] - 0s 0us/step\n",
            "? beautiful and touching movie rich colors great settings good acting and one of the most charming movies i have seen in a while i never saw such an interesting setting when i was in china my wife liked it so much she asked me to ? on and rate it so other would enjoy too\n"
          ],
          "name": "stdout"
        }
      ]
    },
    {
      "cell_type": "code",
      "metadata": {
        "id": "amyWmTXpHxWA"
      },
      "source": [
        "# VECTORIZE as one cannot feed integers into a NN \n",
        "# Encoding the integer sequences into a binary matrix - one hot encoder basically\n",
        "# From integers representing words, at various lengths - to a normalized one hot encoded tensor (matrix) of 10k columns\n",
        "\n",
        "def vectorize_sequences(sequences, dimension=10000):\n",
        "    results = np.zeros((len(sequences), dimension))\n",
        "    for i, sequence in enumerate(sequences):\n",
        "        results[i, sequence] = 1.\n",
        "    return results"
      ],
      "execution_count": null,
      "outputs": []
    },
    {
      "cell_type": "code",
      "metadata": {
        "colab": {
          "base_uri": "https://localhost:8080/"
        },
        "id": "KapdfNcDHz3F",
        "outputId": "70bde534-2352-496b-9833-1af0637e7839"
      },
      "source": [
        "x_train = vectorize_sequences(train_data)\n",
        "x_test = vectorize_sequences(test_data)\n",
        "\n",
        "print(\"x_train \", x_train.shape)\n",
        "print(\"x_test \", x_test.shape)"
      ],
      "execution_count": null,
      "outputs": [
        {
          "output_type": "stream",
          "text": [
            "x_train  (25000, 10000)\n",
            "x_test  (25000, 10000)\n"
          ],
          "name": "stdout"
        }
      ]
    },
    {
      "cell_type": "code",
      "metadata": {
        "colab": {
          "base_uri": "https://localhost:8080/"
        },
        "id": "WN1GU-sWH2ZR",
        "outputId": "8cdaa488-1305-4255-8236-031eb1a6f041"
      },
      "source": [
        "# VECTORIZE the labels too - NO INTEGERS only floats into a tensor...(rare exceptions)\n",
        "\n",
        "y_train = np.asarray(train_labels).astype('float32')\n",
        "y_test = np.asarray(test_labels).astype('float32')\n",
        "print(\"y_train \", y_train.shape)\n",
        "print(\"y_test \", y_test.shape)"
      ],
      "execution_count": null,
      "outputs": [
        {
          "output_type": "stream",
          "text": [
            "y_train  (25000,)\n",
            "y_test  (25000,)\n"
          ],
          "name": "stdout"
        }
      ]
    },
    {
      "cell_type": "code",
      "metadata": {
        "colab": {
          "base_uri": "https://localhost:8080/"
        },
        "id": "GiP19dr9H404",
        "outputId": "1802d3e0-b763-42e8-89e2-282e193ba5a7"
      },
      "source": [
        "# Set a VALIDATION set\n",
        "x_val = x_train[:10000]\n",
        "partial_x_train = x_train[10000:]\n",
        "y_val = y_train[:10000]\n",
        "partial_y_train = y_train[10000:]\n",
        "\n",
        "print(\"x_val \", x_val.shape)\n",
        "print(\"partial_x_train \", partial_x_train.shape)\n",
        "print(\"y_val \", y_val.shape)\n",
        "print(\"partial_y_train \", partial_y_train.shape)"
      ],
      "execution_count": null,
      "outputs": [
        {
          "output_type": "stream",
          "text": [
            "x_val  (10000, 10000)\n",
            "partial_x_train  (15000, 10000)\n",
            "y_val  (10000,)\n",
            "partial_y_train  (15000,)\n"
          ],
          "name": "stdout"
        }
      ]
    },
    {
      "cell_type": "code",
      "metadata": {
        "id": "PQWEDkK5H-8y"
      },
      "source": [
        "# NN MODEL\n",
        "\n",
        "# Use of DROPOUT\n",
        "model = models.Sequential()\n",
        "# Hidden layer 1\n",
        "model.add(layers.Dense(16, kernel_regularizer=regularizers.l2(0.001), activation='relu', input_shape=(10000,)))\n",
        "model.add(layers.Dropout(0.5))\n",
        "model.add(layers.Dense(1, activation='sigmoid'))\n",
        "\n",
        "# Hidden layer 2\n",
        "model.add(layers.Dense(16, kernel_regularizer=regularizers.l2(0.001), activation='relu', input_shape=(10000,)))\n",
        "model.add(layers.Dropout(0.5))\n",
        "model.add(layers.Dense(2, activation='softmax'))\n",
        "\n",
        "# Hidden layer 3\n",
        "model.add(layers.Dense(16, kernel_regularizer=regularizers.l2(0.001), activation='relu', input_shape=(10000,)))\n",
        "model.add(layers.Dropout(0.5))\n",
        "model.add(layers.Dense(4, activation='softsign'))\n",
        "\n",
        "\n",
        "# Use of REGULARIZATION\n",
        "model = models.Sequential()\n",
        "model.add(layers.Dense(16, kernel_regularizer=regularizers.l2(l2=0.001),activation='relu', input_shape=(10000,)))\n",
        "model.add(layers.Dense(16, kernel_regularizer=regularizers.l2(l2=0.001),activation='relu'))\n",
        "model.add(layers.Dense(1, activation='sigmoid'))\n",
        "\n",
        "# REGULARIZERS L1 L2\n",
        "# regularizers.l1(0.001)\n",
        "regularizers.l2(0.001)\n",
        "# regularizers.l1_l2(l1=0.001, l2=0.001)\n",
        "\n",
        "# OPTIMIZERS\n",
        "model.compile(optimizer=optimizers.RMSprop(lr=0.001), loss=losses.binary_crossentropy, metrics=[metrics.binary_accuracy])\n",
        "model.compile(optimizer='rmsprop',loss='binary_crossentropy',metrics=['accuracy'])"
      ],
      "execution_count": null,
      "outputs": []
    },
    {
      "cell_type": "code",
      "metadata": {
        "colab": {
          "base_uri": "https://localhost:8080/"
        },
        "id": "BsJLg-C5IGJE",
        "outputId": "8d6f756a-9e1b-4dd3-cb17-d04dbd343c10"
      },
      "source": [
        "# FIT / TRAIN model\n",
        "\n",
        "NumEpochs = 10\n",
        "BatchSize = 512\n",
        "\n",
        "model.compile(optimizer='rmsprop', loss='binary_crossentropy', metrics=['accuracy'])\n",
        "\n",
        "history = model.fit(partial_x_train, partial_y_train, epochs=NumEpochs, batch_size=BatchSize, validation_data=(x_val, y_val))\n",
        "\n",
        "results = model.evaluate(x_test, y_test)\n",
        "print(\"_\"*100)\n",
        "print(\"Test Loss and Accuracy\")\n",
        "print(\"results \", results)\n",
        "history_dict = history.history\n",
        "history_dict.keys()"
      ],
      "execution_count": null,
      "outputs": [
        {
          "output_type": "stream",
          "text": [
            "Epoch 1/10\n",
            "30/30 [==============================] - 2s 43ms/step - loss: 0.6468 - accuracy: 0.7075 - val_loss: 0.4555 - val_accuracy: 0.8702\n",
            "Epoch 2/10\n",
            "30/30 [==============================] - 1s 19ms/step - loss: 0.4008 - accuracy: 0.8971 - val_loss: 0.3732 - val_accuracy: 0.8817\n",
            "Epoch 3/10\n",
            "30/30 [==============================] - 1s 20ms/step - loss: 0.3078 - accuracy: 0.9232 - val_loss: 0.3563 - val_accuracy: 0.8765\n",
            "Epoch 4/10\n",
            "30/30 [==============================] - 1s 20ms/step - loss: 0.2633 - accuracy: 0.9318 - val_loss: 0.3303 - val_accuracy: 0.8898\n",
            "Epoch 5/10\n",
            "30/30 [==============================] - 1s 20ms/step - loss: 0.2351 - accuracy: 0.9443 - val_loss: 0.3375 - val_accuracy: 0.8853\n",
            "Epoch 6/10\n",
            "30/30 [==============================] - 1s 19ms/step - loss: 0.2203 - accuracy: 0.9504 - val_loss: 0.3390 - val_accuracy: 0.8855\n",
            "Epoch 7/10\n",
            "30/30 [==============================] - 1s 19ms/step - loss: 0.2029 - accuracy: 0.9574 - val_loss: 0.3522 - val_accuracy: 0.8807\n",
            "Epoch 8/10\n",
            "30/30 [==============================] - 1s 20ms/step - loss: 0.1941 - accuracy: 0.9607 - val_loss: 0.3678 - val_accuracy: 0.8792\n",
            "Epoch 9/10\n",
            "30/30 [==============================] - 1s 20ms/step - loss: 0.1879 - accuracy: 0.9614 - val_loss: 0.3802 - val_accuracy: 0.8730\n",
            "Epoch 10/10\n",
            "30/30 [==============================] - 1s 20ms/step - loss: 0.1785 - accuracy: 0.9649 - val_loss: 0.3664 - val_accuracy: 0.8802\n",
            "782/782 [==============================] - 1s 1ms/step - loss: 0.3852 - accuracy: 0.8723\n",
            "____________________________________________________________________________________________________\n",
            "Test Loss and Accuracy\n",
            "results  [0.3851754665374756, 0.8722800016403198]\n"
          ],
          "name": "stdout"
        },
        {
          "output_type": "execute_result",
          "data": {
            "text/plain": [
              "dict_keys(['loss', 'accuracy', 'val_loss', 'val_accuracy'])"
            ]
          },
          "metadata": {
            "tags": []
          },
          "execution_count": 11
        }
      ]
    },
    {
      "cell_type": "code",
      "metadata": {
        "colab": {
          "base_uri": "https://localhost:8080/",
          "height": 299
        },
        "id": "OyA4DW_UIGod",
        "outputId": "5aa5e18c-4d19-45d7-ff50-0e9d73efa2cc"
      },
      "source": [
        "# VALIDATION LOSS curves\n",
        "\n",
        "plt.clf()\n",
        "history_dict = history.history\n",
        "loss_values = history_dict['loss']\n",
        "val_loss_values = history_dict['val_loss']\n",
        "epochs = range(1, (len(history_dict['loss']) + 1))\n",
        "plt.plot(epochs, loss_values, 'bo', label='Training loss')\n",
        "plt.plot(epochs, val_loss_values, 'b', label='Validation loss')\n",
        "plt.title('Training and validation loss')\n",
        "plt.xlabel('Epochs')\n",
        "plt.ylabel('Loss')\n",
        "plt.legend()\n",
        "plt.show()"
      ],
      "execution_count": null,
      "outputs": [
        {
          "output_type": "display_data",
          "data": {
            "image/png": "[encoded data removed]",
            "text/plain": [
              "<Figure size 432x288 with 1 Axes>"
            ]
          },
          "metadata": {
            "tags": [],
            "needs_background": "light"
          }
        }
      ]
    },
    {
      "cell_type": "code",
      "metadata": {
        "colab": {
          "base_uri": "https://localhost:8080/",
          "height": 336
        },
        "id": "geeBe1CWIK0N",
        "outputId": "065f939a-1d96-4571-879a-f2d57696c1f9"
      },
      "source": [
        "# VALIDATION ACCURACY curves\n",
        "\n",
        "plt.clf()\n",
        "print(history_dict)\n",
        "acc_values = history_dict['accuracy']\n",
        "val_acc_values = history_dict['val_accuracy']\n",
        "epochs = range(1, (len(history_dict['accuracy']) + 1))\n",
        "plt.plot(epochs, acc_values, 'bo', label='Training acc')\n",
        "plt.plot(epochs, val_acc_values, 'b', label='Validation acc')\n",
        "plt.title('Training and validation accuracy')\n",
        "plt.xlabel('Epochs')\n",
        "plt.ylabel('Accuracy')\n",
        "plt.legend()\n",
        "plt.show()"
      ],
      "execution_count": null,
      "outputs": [
        {
          "output_type": "stream",
          "text": [
            "{'loss': [0.5760955214500427, 0.38193461298942566, 0.30311718583106995, 0.26363009214401245, 0.24105864763259888, 0.22439135611057281, 0.210023894906044, 0.2005380243062973, 0.19330404698848724, 0.18795455992221832], 'accuracy': [0.7875333428382874, 0.8968666791915894, 0.920199990272522, 0.930400013923645, 0.9380666613578796, 0.9446666836738586, 0.9513333439826965, 0.9550666809082031, 0.9577999711036682, 0.9593333601951599], 'val_loss': [0.455471932888031, 0.37317854166030884, 0.35634443163871765, 0.33034181594848633, 0.3375047743320465, 0.33902281522750854, 0.35220035910606384, 0.3677874505519867, 0.38015151023864746, 0.3664452135562897], 'val_accuracy': [0.870199978351593, 0.8816999793052673, 0.8765000104904175, 0.8898000121116638, 0.8852999806404114, 0.8855000138282776, 0.8806999921798706, 0.8791999816894531, 0.8730000257492065, 0.8802000284194946]}\n"
          ],
          "name": "stdout"
        },
        {
          "output_type": "display_data",
          "data": {
            "image/png": "[encoded data removed]",
            "text/plain": [
              "<Figure size 432x288 with 1 Axes>"
            ]
          },
          "metadata": {
            "tags": [],
            "needs_background": "light"
          }
        }
      ]
    },
    {
      "cell_type": "code",
      "metadata": {
        "colab": {
          "base_uri": "https://localhost:8080/"
        },
        "id": "aPhNAGjGIMtF",
        "outputId": "ea98d84f-a244-4623-a61a-cb27abf0ee3b"
      },
      "source": [
        "# PREDICT\n",
        "\n",
        "model.predict(x_test)"
      ],
      "execution_count": null,
      "outputs": [
        {
          "output_type": "execute_result",
          "data": {
            "text/plain": [
              "array([[0.15733865],\n",
              "       [0.9991614 ],\n",
              "       [0.7762356 ],\n",
              "       ...,\n",
              "       [0.02678961],\n",
              "       [0.05889934],\n",
              "       [0.5907231 ]], dtype=float32)"
            ]
          },
          "metadata": {
            "tags": []
          },
          "execution_count": 14
        }
      ]
    }
  ]
}